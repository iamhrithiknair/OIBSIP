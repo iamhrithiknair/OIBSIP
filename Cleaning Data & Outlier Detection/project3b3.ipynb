{
 "cells": [
  {
   "cell_type": "markdown",
   "id": "8be9be10-2e38-4941-a109-aacbf57b0bfa",
   "metadata": {},
   "source": [
    "# Data Cleaning and Integrity in unseen_data Dataset\n",
    "This notebook demonstrates data cleaning operations such as handling missing data, removing duplicates, standardizing data, and detecting outliers."
   ]
  },
  {
   "cell_type": "code",
   "execution_count": 1,
   "id": "b0d7d1c4-2e09-4ca3-950c-349899c02781",
   "metadata": {},
   "outputs": [
    {
     "name": "stdout",
     "output_type": "stream",
     "text": [
      "<class 'pandas.core.frame.DataFrame'>\n",
      "RangeIndex: 30 entries, 0 to 29\n",
      "Data columns (total 6 columns):\n",
      " #   Column            Non-Null Count  Dtype  \n",
      "---  ------            --------------  -----  \n",
      " 0   Plant_ID          30 non-null     int64  \n",
      " 1   Date              30 non-null     object \n",
      " 2   Temperature (°C)  30 non-null     int64  \n",
      " 3   Humidity (%)      30 non-null     int64  \n",
      " 4   pH Level          30 non-null     float64\n",
      " 5   TDS Value (ppm)   30 non-null     int64  \n",
      "dtypes: float64(1), int64(4), object(1)\n",
      "memory usage: 1.5+ KB\n"
     ]
    },
    {
     "data": {
      "text/html": [
       "<div>\n",
       "<style scoped>\n",
       "    .dataframe tbody tr th:only-of-type {\n",
       "        vertical-align: middle;\n",
       "    }\n",
       "\n",
       "    .dataframe tbody tr th {\n",
       "        vertical-align: top;\n",
       "    }\n",
       "\n",
       "    .dataframe thead th {\n",
       "        text-align: right;\n",
       "    }\n",
       "</style>\n",
       "<table border=\"1\" class=\"dataframe\">\n",
       "  <thead>\n",
       "    <tr style=\"text-align: right;\">\n",
       "      <th></th>\n",
       "      <th>Plant_ID</th>\n",
       "      <th>Date</th>\n",
       "      <th>Temperature (°C)</th>\n",
       "      <th>Humidity (%)</th>\n",
       "      <th>pH Level</th>\n",
       "      <th>TDS Value (ppm)</th>\n",
       "    </tr>\n",
       "  </thead>\n",
       "  <tbody>\n",
       "    <tr>\n",
       "      <th>0</th>\n",
       "      <td>1</td>\n",
       "      <td>9/15/2023</td>\n",
       "      <td>30</td>\n",
       "      <td>60</td>\n",
       "      <td>6.5</td>\n",
       "      <td>500</td>\n",
       "    </tr>\n",
       "    <tr>\n",
       "      <th>1</th>\n",
       "      <td>1</td>\n",
       "      <td>9/16/2023</td>\n",
       "      <td>31</td>\n",
       "      <td>62</td>\n",
       "      <td>6.6</td>\n",
       "      <td>505</td>\n",
       "    </tr>\n",
       "    <tr>\n",
       "      <th>2</th>\n",
       "      <td>1</td>\n",
       "      <td>9/17/2023</td>\n",
       "      <td>26</td>\n",
       "      <td>58</td>\n",
       "      <td>6.4</td>\n",
       "      <td>495</td>\n",
       "    </tr>\n",
       "    <tr>\n",
       "      <th>3</th>\n",
       "      <td>1</td>\n",
       "      <td>9/18/2023</td>\n",
       "      <td>32</td>\n",
       "      <td>57</td>\n",
       "      <td>6.7</td>\n",
       "      <td>490</td>\n",
       "    </tr>\n",
       "    <tr>\n",
       "      <th>4</th>\n",
       "      <td>1</td>\n",
       "      <td>9/19/2023</td>\n",
       "      <td>25</td>\n",
       "      <td>59</td>\n",
       "      <td>6.5</td>\n",
       "      <td>500</td>\n",
       "    </tr>\n",
       "  </tbody>\n",
       "</table>\n",
       "</div>"
      ],
      "text/plain": [
       "   Plant_ID       Date  Temperature (°C)  Humidity (%)  pH Level  \\\n",
       "0         1  9/15/2023                30            60       6.5   \n",
       "1         1  9/16/2023                31            62       6.6   \n",
       "2         1  9/17/2023                26            58       6.4   \n",
       "3         1  9/18/2023                32            57       6.7   \n",
       "4         1  9/19/2023                25            59       6.5   \n",
       "\n",
       "   TDS Value (ppm)  \n",
       "0              500  \n",
       "1              505  \n",
       "2              495  \n",
       "3              490  \n",
       "4              500  "
      ]
     },
     "execution_count": 1,
     "metadata": {},
     "output_type": "execute_result"
    }
   ],
   "source": [
    "import pandas as pd\n",
    "import numpy as np\n",
    "import matplotlib.pyplot as plt\n",
    "import seaborn as sns\n",
    "from sklearn.preprocessing import StandardScaler\n",
    "\n",
    "# Load the dataset\n",
    "file_path = r'C:\\Users\\user\\Downloads\\oasis\\unseen_data.csv'\n",
    "data = data = pd.read_csv(file_path, encoding='ISO-8859-1')\n",
    "# or use latin1\n",
    "# data = pd.read_csv(file_path, encoding='latin1')\n",
    "\n",
    "\n",
    "# Display basic info and first few rows of the dataset\n",
    "data.info()\n",
    "data.head()"
   ]
  },
  {
   "cell_type": "markdown",
   "id": "fd550c63-06c5-4ab6-aa6a-3e54583c5bc4",
   "metadata": {},
   "source": [
    "## Step 1: Handling Missing Data"
   ]
  },
  {
   "cell_type": "code",
   "execution_count": 2,
   "id": "0db5407c-79d5-482b-8480-470ce9333b1f",
   "metadata": {},
   "outputs": [
    {
     "name": "stdout",
     "output_type": "stream",
     "text": [
      "Missing Data Summary:\n",
      "Series([], dtype: int64)\n",
      "Missing Data Percentage:\n",
      "Series([], dtype: float64)\n",
      "\n",
      "Missing Data After Cleaning:\n",
      "Series([], dtype: int64)\n"
     ]
    }
   ],
   "source": [
    "missing_data_summary = data.isnull().sum()\n",
    "missing_percentage = (missing_data_summary / len(data)) * 100\n",
    "print(f\"Missing Data Summary:\\n{missing_data_summary[missing_data_summary > 0]}\")\n",
    "print(f\"Missing Data Percentage:\\n{missing_percentage[missing_percentage > 0]}\")\n",
    "\n",
    "# Step 2: Handling missing values\n",
    "def handle_missing_data(df):\n",
    "    for col in df.columns:\n",
    "        missing_count = df[col].isnull().sum()\n",
    "        \n",
    "        # Skip columns with no missing data\n",
    "        if missing_count == 0:\n",
    "            continue\n",
    "        \n",
    "        # Handle missing numeric columns\n",
    "        if df[col].dtype in ['float64', 'int64']:\n",
    "            mean_value = df[col].mean()\n",
    "            median_value = df[col].median()\n",
    "            \n",
    "            # If data is normally distributed, fill with mean; otherwise use median\n",
    "            df[col].fillna(median_value, inplace=True)\n",
    "            print(f\"Filled missing numeric values in '{col}' with median: {median_value}\")\n",
    "        \n",
    "        # Handle missing categorical columns\n",
    "        elif df[col].dtype == 'object':\n",
    "            mode_value = df[col].mode()[0]\n",
    "            \n",
    "            # Fill categorical columns with the most frequent value (mode)\n",
    "            df[col].fillna(mode_value, inplace=True)\n",
    "            print(f\"Filled missing categorical values in '{col}' with mode: {mode_value}\")\n",
    "        \n",
    "        # Handle missing datetime columns\n",
    "        elif np.issubdtype(df[col].dtype, np.datetime64):\n",
    "            # Fill datetime columns with the most common or nearest date\n",
    "            most_frequent_date = df[col].mode()[0]\n",
    "            df[col].fillna(most_frequent_date, inplace=True)\n",
    "            print(f\"Filled missing datetime values in '{col}' with mode: {most_frequent_date}\")\n",
    "    \n",
    "    return df\n",
    "\n",
    "# Apply missing data handling\n",
    "data_cleaned = handle_missing_data(data)\n",
    "\n",
    "# Step 3: Verify that no missing data remains\n",
    "missing_data_cleaned_summary = data_cleaned.isnull().sum()\n",
    "print(f\"\\nMissing Data After Cleaning:\\n{missing_data_cleaned_summary[missing_data_cleaned_summary > 0]}\")\n"
   ]
  },
  {
   "cell_type": "markdown",
   "id": "4ec71b1c-6062-4fb2-bb57-525a949263bd",
   "metadata": {},
   "source": [
    "## Step 2: Removing Duplicates"
   ]
  },
  {
   "cell_type": "code",
   "execution_count": 3,
   "id": "3373d21c-04ac-470b-a830-eb303dd7554e",
   "metadata": {},
   "outputs": [
    {
     "data": {
      "text/plain": [
       "np.int64(0)"
      ]
     },
     "execution_count": 3,
     "metadata": {},
     "output_type": "execute_result"
    }
   ],
   "source": [
    "# Drop duplicate rows if any\n",
    "data.drop_duplicates(inplace=True)\n",
    "\n",
    "# Verify that duplicates are removed\n",
    "data.duplicated().sum()"
   ]
  },
  {
   "cell_type": "markdown",
   "id": "2ed51c38-98ed-444d-bc26-63acba896dd6",
   "metadata": {},
   "source": [
    "## Step 3: Standardizing Data"
   ]
  },
  {
   "cell_type": "code",
   "execution_count": 4,
   "id": "88251c37-a8f4-418c-bb6b-74f599d1d7fd",
   "metadata": {},
   "outputs": [
    {
     "data": {
      "text/html": [
       "<div>\n",
       "<style scoped>\n",
       "    .dataframe tbody tr th:only-of-type {\n",
       "        vertical-align: middle;\n",
       "    }\n",
       "\n",
       "    .dataframe tbody tr th {\n",
       "        vertical-align: top;\n",
       "    }\n",
       "\n",
       "    .dataframe thead th {\n",
       "        text-align: right;\n",
       "    }\n",
       "</style>\n",
       "<table border=\"1\" class=\"dataframe\">\n",
       "  <thead>\n",
       "    <tr style=\"text-align: right;\">\n",
       "      <th></th>\n",
       "      <th>Plant_ID</th>\n",
       "      <th>Date</th>\n",
       "      <th>Temperature (°C)</th>\n",
       "      <th>Humidity (%)</th>\n",
       "      <th>pH Level</th>\n",
       "      <th>TDS Value (ppm)</th>\n",
       "    </tr>\n",
       "  </thead>\n",
       "  <tbody>\n",
       "    <tr>\n",
       "      <th>0</th>\n",
       "      <td>-1.0</td>\n",
       "      <td>9/15/2023</td>\n",
       "      <td>0.317885</td>\n",
       "      <td>-0.058824</td>\n",
       "      <td>-7.453560e-01</td>\n",
       "      <td>-0.112923</td>\n",
       "    </tr>\n",
       "    <tr>\n",
       "      <th>1</th>\n",
       "      <td>-1.0</td>\n",
       "      <td>9/16/2023</td>\n",
       "      <td>0.699347</td>\n",
       "      <td>0.529412</td>\n",
       "      <td>6.620091e-15</td>\n",
       "      <td>0.400363</td>\n",
       "    </tr>\n",
       "    <tr>\n",
       "      <th>2</th>\n",
       "      <td>-1.0</td>\n",
       "      <td>9/17/2023</td>\n",
       "      <td>-1.207963</td>\n",
       "      <td>-0.647059</td>\n",
       "      <td>-1.490712e+00</td>\n",
       "      <td>-0.626209</td>\n",
       "    </tr>\n",
       "    <tr>\n",
       "      <th>3</th>\n",
       "      <td>-1.0</td>\n",
       "      <td>9/18/2023</td>\n",
       "      <td>1.080809</td>\n",
       "      <td>-0.941176</td>\n",
       "      <td>7.453560e-01</td>\n",
       "      <td>-1.139496</td>\n",
       "    </tr>\n",
       "    <tr>\n",
       "      <th>4</th>\n",
       "      <td>-1.0</td>\n",
       "      <td>9/19/2023</td>\n",
       "      <td>-1.589425</td>\n",
       "      <td>-0.352941</td>\n",
       "      <td>-7.453560e-01</td>\n",
       "      <td>-0.112923</td>\n",
       "    </tr>\n",
       "  </tbody>\n",
       "</table>\n",
       "</div>"
      ],
      "text/plain": [
       "   Plant_ID       Date  Temperature (°C)  Humidity (%)      pH Level  \\\n",
       "0      -1.0  9/15/2023          0.317885     -0.058824 -7.453560e-01   \n",
       "1      -1.0  9/16/2023          0.699347      0.529412  6.620091e-15   \n",
       "2      -1.0  9/17/2023         -1.207963     -0.647059 -1.490712e+00   \n",
       "3      -1.0  9/18/2023          1.080809     -0.941176  7.453560e-01   \n",
       "4      -1.0  9/19/2023         -1.589425     -0.352941 -7.453560e-01   \n",
       "\n",
       "   TDS Value (ppm)  \n",
       "0        -0.112923  \n",
       "1         0.400363  \n",
       "2        -0.626209  \n",
       "3        -1.139496  \n",
       "4        -0.112923  "
      ]
     },
     "execution_count": 4,
     "metadata": {},
     "output_type": "execute_result"
    }
   ],
   "source": [
    "numeric_columns = data.select_dtypes(include=['float64', 'int64']).columns\n",
    "scaler = StandardScaler()\n",
    "data[numeric_columns] = scaler.fit_transform(data[numeric_columns])\n",
    "\n",
    "# Display the head to verify standardization\n",
    "data.head()"
   ]
  },
  {
   "cell_type": "markdown",
   "id": "abc0efd9-967d-43c1-a6e2-496738357079",
   "metadata": {},
   "source": [
    "## Step 4: Outlier Detection using IQR"
   ]
  },
  {
   "cell_type": "code",
   "execution_count": 5,
   "id": "cee15daa-2f3f-414a-9cb9-f51c891aebde",
   "metadata": {},
   "outputs": [
    {
     "name": "stdout",
     "output_type": "stream",
     "text": [
      "Outlier Rows:\n",
      "Empty DataFrame\n",
      "Columns: [Plant_ID, Date, Temperature (°C), Humidity (%), pH Level, TDS Value (ppm)]\n",
      "Index: []\n"
     ]
    }
   ],
   "source": [
    "outliers = pd.DataFrame()\n",
    "for col in numeric_columns:\n",
    "    outliers[col] = np.abs(data[col]) > 3  # Marks True for outliers\n",
    "\n",
    "# Display rows with outliers\n",
    "outlier_rows = data[outliers.any(axis=1)]\n",
    "print(f\"Outlier Rows:\\n{outlier_rows}\")"
   ]
  },
  {
   "cell_type": "code",
   "execution_count": 6,
   "id": "64c1e12c-a608-43dc-8454-6a99d2d0d035",
   "metadata": {},
   "outputs": [
    {
     "data": {
      "image/png": "[encoded data removed]",
      "text/plain": [
       "<Figure size 1200x800 with 1 Axes>"
      ]
     },
     "metadata": {},
     "output_type": "display_data"
    }
   ],
   "source": [
    "plt.figure(figsize=(12, 8))\n",
    "\n",
    "# Ensure column names are passed correctly\n",
    "data.boxplot(column=list(numeric_columns))\n",
    "plt.xticks(rotation=45)\n",
    "plt.title('Boxplot for Outlier Detection')\n",
    "plt.show()"
   ]
  },
  {
   "cell_type": "code",
   "execution_count": null,
   "id": "963b3cc6-13d8-4603-8fbc-9767180f914b",
   "metadata": {},
   "outputs": [],
   "source": []
  }
 ],
 "metadata": {
  "kernelspec": {
   "display_name": "Python 3 (ipykernel)",
   "language": "python",
   "name": "python3"
  },
  "language_info": {
   "codemirror_mode": {
    "name": "ipython",
    "version": 3
   },
   "file_extension": ".py",
   "mimetype": "text/x-python",
   "name": "python",
   "nbconvert_exporter": "python",
   "pygments_lexer": "ipython3",
   "version": "3.10.11"
  }
 },
 "nbformat": 4,
 "nbformat_minor": 5
}
