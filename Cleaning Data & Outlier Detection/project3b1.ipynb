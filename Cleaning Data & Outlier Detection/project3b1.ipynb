{
 "cells": [
  {
   "cell_type": "markdown",
   "metadata": {},
   "source": [
    "# Data Cleaning and Integrity in NYC lettuce_dataset Dataset\n",
    "This notebook demonstrates data cleaning operations such as handling missing data, removing duplicates, standardizing data, and detecting outliers."
   ]
  },
  {
   "cell_type": "code",
   "execution_count": 10,
   "metadata": {},
   "outputs": [
    {
     "name": "stdout",
     "output_type": "stream",
     "text": [
      "<class 'pandas.core.frame.DataFrame'>\n",
      "RangeIndex: 3169 entries, 0 to 3168\n",
      "Data columns (total 7 columns):\n",
      " #   Column            Non-Null Count  Dtype  \n",
      "---  ------            --------------  -----  \n",
      " 0   Plant_ID          3169 non-null   int64  \n",
      " 1   Date              3169 non-null   object \n",
      " 2   Temperature (°C)  3169 non-null   float64\n",
      " 3   Humidity (%)      3169 non-null   int64  \n",
      " 4   TDS Value (ppm)   3169 non-null   int64  \n",
      " 5   pH Level          3169 non-null   float64\n",
      " 6   Growth Days       3169 non-null   int64  \n",
      "dtypes: float64(2), int64(4), object(1)\n",
      "memory usage: 173.4+ KB\n"
     ]
    },
    {
     "data": {
      "text/html": [
       "<div>\n",
       "<style scoped>\n",
       "    .dataframe tbody tr th:only-of-type {\n",
       "        vertical-align: middle;\n",
       "    }\n",
       "\n",
       "    .dataframe tbody tr th {\n",
       "        vertical-align: top;\n",
       "    }\n",
       "\n",
       "    .dataframe thead th {\n",
       "        text-align: right;\n",
       "    }\n",
       "</style>\n",
       "<table border=\"1\" class=\"dataframe\">\n",
       "  <thead>\n",
       "    <tr style=\"text-align: right;\">\n",
       "      <th></th>\n",
       "      <th>Plant_ID</th>\n",
       "      <th>Date</th>\n",
       "      <th>Temperature (°C)</th>\n",
       "      <th>Humidity (%)</th>\n",
       "      <th>TDS Value (ppm)</th>\n",
       "      <th>pH Level</th>\n",
       "      <th>Growth Days</th>\n",
       "    </tr>\n",
       "  </thead>\n",
       "  <tbody>\n",
       "    <tr>\n",
       "      <th>0</th>\n",
       "      <td>1</td>\n",
       "      <td>8/3/2023</td>\n",
       "      <td>33.4</td>\n",
       "      <td>53</td>\n",
       "      <td>582</td>\n",
       "      <td>6.4</td>\n",
       "      <td>1</td>\n",
       "    </tr>\n",
       "    <tr>\n",
       "      <th>1</th>\n",
       "      <td>1</td>\n",
       "      <td>8/4/2023</td>\n",
       "      <td>33.5</td>\n",
       "      <td>53</td>\n",
       "      <td>451</td>\n",
       "      <td>6.1</td>\n",
       "      <td>2</td>\n",
       "    </tr>\n",
       "    <tr>\n",
       "      <th>2</th>\n",
       "      <td>1</td>\n",
       "      <td>8/5/2023</td>\n",
       "      <td>33.4</td>\n",
       "      <td>59</td>\n",
       "      <td>678</td>\n",
       "      <td>6.4</td>\n",
       "      <td>3</td>\n",
       "    </tr>\n",
       "    <tr>\n",
       "      <th>3</th>\n",
       "      <td>1</td>\n",
       "      <td>8/6/2023</td>\n",
       "      <td>33.4</td>\n",
       "      <td>68</td>\n",
       "      <td>420</td>\n",
       "      <td>6.4</td>\n",
       "      <td>4</td>\n",
       "    </tr>\n",
       "    <tr>\n",
       "      <th>4</th>\n",
       "      <td>1</td>\n",
       "      <td>8/7/2023</td>\n",
       "      <td>33.4</td>\n",
       "      <td>74</td>\n",
       "      <td>637</td>\n",
       "      <td>6.5</td>\n",
       "      <td>5</td>\n",
       "    </tr>\n",
       "  </tbody>\n",
       "</table>\n",
       "</div>"
      ],
      "text/plain": [
       "   Plant_ID      Date  Temperature (°C)  Humidity (%)  TDS Value (ppm)  \\\n",
       "0         1  8/3/2023              33.4            53              582   \n",
       "1         1  8/4/2023              33.5            53              451   \n",
       "2         1  8/5/2023              33.4            59              678   \n",
       "3         1  8/6/2023              33.4            68              420   \n",
       "4         1  8/7/2023              33.4            74              637   \n",
       "\n",
       "   pH Level  Growth Days  \n",
       "0       6.4            1  \n",
       "1       6.1            2  \n",
       "2       6.4            3  \n",
       "3       6.4            4  \n",
       "4       6.5            5  "
      ]
     },
     "execution_count": 10,
     "metadata": {},
     "output_type": "execute_result"
    }
   ],
   "source": [
    "import pandas as pd\n",
    "import numpy as np\n",
    "import matplotlib.pyplot as plt\n",
    "import seaborn as sns\n",
    "from sklearn.preprocessing import StandardScaler\n",
    "\n",
    "# Load the dataset\n",
    "file_path = r'C:\\Users\\user\\Downloads\\oasis\\lettuce_dataset.csv'\n",
    "data = data = pd.read_csv(file_path, encoding='ISO-8859-1')\n",
    "# or use latin1\n",
    "# data = pd.read_csv(file_path, encoding='latin1')\n",
    "\n",
    "\n",
    "# Display basic info and first few rows of the dataset\n",
    "data.info()\n",
    "data.head()"
   ]
  },
  {
   "cell_type": "markdown",
   "metadata": {},
   "source": [
    "## Step 1: Handling Missing Data"
   ]
  },
  {
   "cell_type": "code",
   "execution_count": 12,
   "metadata": {},
   "outputs": [
    {
     "data": {
      "text/plain": [
       "Plant_ID            0\n",
       "Date                0\n",
       "Temperature (°C)    0\n",
       "Humidity (%)        0\n",
       "TDS Value (ppm)     0\n",
       "pH Level            0\n",
       "Growth Days         0\n",
       "dtype: int64"
      ]
     },
     "execution_count": 12,
     "metadata": {},
     "output_type": "execute_result"
    }
   ],
   "source": [
    "# 1. Handling Missing Values (if any)\n",
    "# Since no missing values are present, this step can be skipped.\n",
    "# However, for future-proofing, here's how you would handle it:\n",
    "#data.fillna(data.mean(), inplace=True)\n",
    "\n",
    "# Verify missing values have been handled\n",
    "data.isnull().sum()"
   ]
  },
  {
   "cell_type": "markdown",
   "metadata": {},
   "source": [
    "## Step 2: Removing Duplicates"
   ]
  },
  {
   "cell_type": "code",
   "execution_count": 13,
   "metadata": {},
   "outputs": [
    {
     "data": {
      "text/plain": [
       "np.int64(0)"
      ]
     },
     "execution_count": 13,
     "metadata": {},
     "output_type": "execute_result"
    }
   ],
   "source": [
    "# Drop duplicate rows if any\n",
    "data.drop_duplicates(inplace=True)\n",
    "\n",
    "# Verify that duplicates are removed\n",
    "data.duplicated().sum()"
   ]
  },
  {
   "cell_type": "markdown",
   "metadata": {},
   "source": [
    "## Step 3: Standardizing Data"
   ]
  },
  {
   "cell_type": "code",
   "execution_count": 14,
   "metadata": {},
   "outputs": [
    {
     "data": {
      "text/html": [
       "<div>\n",
       "<style scoped>\n",
       "    .dataframe tbody tr th:only-of-type {\n",
       "        vertical-align: middle;\n",
       "    }\n",
       "\n",
       "    .dataframe tbody tr th {\n",
       "        vertical-align: top;\n",
       "    }\n",
       "\n",
       "    .dataframe thead th {\n",
       "        text-align: right;\n",
       "    }\n",
       "</style>\n",
       "<table border=\"1\" class=\"dataframe\">\n",
       "  <thead>\n",
       "    <tr style=\"text-align: right;\">\n",
       "      <th></th>\n",
       "      <th>Plant_ID</th>\n",
       "      <th>Date</th>\n",
       "      <th>Temperature (°C)</th>\n",
       "      <th>Humidity (%)</th>\n",
       "      <th>TDS Value (ppm)</th>\n",
       "      <th>pH Level</th>\n",
       "      <th>Growth Days</th>\n",
       "    </tr>\n",
       "  </thead>\n",
       "  <tbody>\n",
       "    <tr>\n",
       "      <th>0</th>\n",
       "      <td>-1.701649</td>\n",
       "      <td>8/3/2023</td>\n",
       "      <td>1.125915</td>\n",
       "      <td>-1.321099</td>\n",
       "      <td>-0.138688</td>\n",
       "      <td>0.003366</td>\n",
       "      <td>-1.693530</td>\n",
       "    </tr>\n",
       "    <tr>\n",
       "      <th>1</th>\n",
       "      <td>-1.701649</td>\n",
       "      <td>8/4/2023</td>\n",
       "      <td>1.147329</td>\n",
       "      <td>-1.321099</td>\n",
       "      <td>-1.270977</td>\n",
       "      <td>-1.276599</td>\n",
       "      <td>-1.617038</td>\n",
       "    </tr>\n",
       "    <tr>\n",
       "      <th>2</th>\n",
       "      <td>-1.701649</td>\n",
       "      <td>8/5/2023</td>\n",
       "      <td>1.125915</td>\n",
       "      <td>-0.653510</td>\n",
       "      <td>0.691082</td>\n",
       "      <td>0.003366</td>\n",
       "      <td>-1.540547</td>\n",
       "    </tr>\n",
       "    <tr>\n",
       "      <th>3</th>\n",
       "      <td>-1.701649</td>\n",
       "      <td>8/6/2023</td>\n",
       "      <td>1.125915</td>\n",
       "      <td>0.347874</td>\n",
       "      <td>-1.538924</td>\n",
       "      <td>0.003366</td>\n",
       "      <td>-1.464055</td>\n",
       "    </tr>\n",
       "    <tr>\n",
       "      <th>4</th>\n",
       "      <td>-1.701649</td>\n",
       "      <td>8/7/2023</td>\n",
       "      <td>1.125915</td>\n",
       "      <td>1.015463</td>\n",
       "      <td>0.336701</td>\n",
       "      <td>0.430021</td>\n",
       "      <td>-1.387564</td>\n",
       "    </tr>\n",
       "  </tbody>\n",
       "</table>\n",
       "</div>"
      ],
      "text/plain": [
       "   Plant_ID      Date  Temperature (°C)  Humidity (%)  TDS Value (ppm)  \\\n",
       "0 -1.701649  8/3/2023          1.125915     -1.321099        -0.138688   \n",
       "1 -1.701649  8/4/2023          1.147329     -1.321099        -1.270977   \n",
       "2 -1.701649  8/5/2023          1.125915     -0.653510         0.691082   \n",
       "3 -1.701649  8/6/2023          1.125915      0.347874        -1.538924   \n",
       "4 -1.701649  8/7/2023          1.125915      1.015463         0.336701   \n",
       "\n",
       "   pH Level  Growth Days  \n",
       "0  0.003366    -1.693530  \n",
       "1 -1.276599    -1.617038  \n",
       "2  0.003366    -1.540547  \n",
       "3  0.003366    -1.464055  \n",
       "4  0.430021    -1.387564  "
      ]
     },
     "execution_count": 14,
     "metadata": {},
     "output_type": "execute_result"
    }
   ],
   "source": [
    "numeric_columns = data.select_dtypes(include=['float64', 'int64']).columns\n",
    "scaler = StandardScaler()\n",
    "data[numeric_columns] = scaler.fit_transform(data[numeric_columns])\n",
    "\n",
    "# Display the head to verify standardization\n",
    "data.head()"
   ]
  },
  {
   "cell_type": "markdown",
   "metadata": {},
   "source": [
    "## Step 4: Outlier Detection using IQR"
   ]
  },
  {
   "cell_type": "code",
   "execution_count": 17,
   "metadata": {},
   "outputs": [
    {
     "name": "stdout",
     "output_type": "stream",
     "text": [
      "Outlier Rows:\n",
      "Empty DataFrame\n",
      "Columns: [Plant_ID, Date, Temperature (°C), Humidity (%), TDS Value (ppm), pH Level, Growth Days]\n",
      "Index: []\n"
     ]
    }
   ],
   "source": [
    "outliers = pd.DataFrame()\n",
    "for col in numeric_columns:\n",
    "    outliers[col] = np.abs(data[col]) > 3  # Marks True for outliers\n",
    "\n",
    "# Display rows with outliers\n",
    "outlier_rows = data[outliers.any(axis=1)]\n",
    "print(f\"Outlier Rows:\\n{outlier_rows}\")"
   ]
  },
  {
   "cell_type": "code",
   "execution_count": 19,
   "metadata": {},
   "outputs": [
    {
     "data": {
      "image/png": "[encoded data removed]",
      "text/plain": [
       "<Figure size 1200x800 with 1 Axes>"
      ]
     },
     "metadata": {},
     "output_type": "display_data"
    }
   ],
   "source": [
    "plt.figure(figsize=(12, 8))\n",
    "\n",
    "# Ensure column names are passed correctly\n",
    "data.boxplot(column=list(numeric_columns))\n",
    "plt.xticks(rotation=45)\n",
    "plt.title('Boxplot for Outlier Detection')\n",
    "plt.show()"
   ]
  },
  {
   "cell_type": "code",
   "execution_count": null,
   "metadata": {},
   "outputs": [],
   "source": []
  }
 ],
 "metadata": {
  "kernelspec": {
   "display_name": "Python 3 (ipykernel)",
   "language": "python",
   "name": "python3"
  },
  "language_info": {
   "codemirror_mode": {
    "name": "ipython",
    "version": 3
   },
   "file_extension": ".py",
   "mimetype": "text/x-python",
   "name": "python",
   "nbconvert_exporter": "python",
   "pygments_lexer": "ipython3",
   "version": "3.10.11"
  }
 },
 "nbformat": 4,
 "nbformat_minor": 4
}
