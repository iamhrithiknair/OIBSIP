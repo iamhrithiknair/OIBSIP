{
 "cells": [
  {
   "cell_type": "markdown",
   "id": "733bc6ac-0344-4daf-a915-d402e7b15bbf",
   "metadata": {},
   "source": [
    "# Data Cleaning and Integrity in lettuce_dataset_updated Dataset\n",
    "This notebook demonstrates data cleaning operations such as handling missing data, removing duplicates, standardizing data, and detecting outliers."
   ]
  },
  {
   "cell_type": "code",
   "execution_count": 1,
   "id": "b3e9db9b-d29f-4c4c-8663-44ffebb70a23",
   "metadata": {},
   "outputs": [
    {
     "name": "stdout",
     "output_type": "stream",
     "text": [
      "<class 'pandas.core.frame.DataFrame'>\n",
      "RangeIndex: 3169 entries, 0 to 3168\n",
      "Data columns (total 9 columns):\n",
      " #   Column            Non-Null Count  Dtype  \n",
      "---  ------            --------------  -----  \n",
      " 0   Plant_ID          3169 non-null   int64  \n",
      " 1   Date              3169 non-null   object \n",
      " 2   Temperature (°C)  3169 non-null   float64\n",
      " 3   Humidity (%)      3169 non-null   int64  \n",
      " 4   TDS Value (ppm)   3169 non-null   int64  \n",
      " 5   pH Level          3169 non-null   float64\n",
      " 6   Growth Days       3169 non-null   int64  \n",
      " 7   Temperature (F)   3169 non-null   float64\n",
      " 8   Humidity          3169 non-null   float64\n",
      "dtypes: float64(4), int64(4), object(1)\n",
      "memory usage: 222.9+ KB\n"
     ]
    },
    {
     "data": {
      "text/html": [
       "<div>\n",
       "<style scoped>\n",
       "    .dataframe tbody tr th:only-of-type {\n",
       "        vertical-align: middle;\n",
       "    }\n",
       "\n",
       "    .dataframe tbody tr th {\n",
       "        vertical-align: top;\n",
       "    }\n",
       "\n",
       "    .dataframe thead th {\n",
       "        text-align: right;\n",
       "    }\n",
       "</style>\n",
       "<table border=\"1\" class=\"dataframe\">\n",
       "  <thead>\n",
       "    <tr style=\"text-align: right;\">\n",
       "      <th></th>\n",
       "      <th>Plant_ID</th>\n",
       "      <th>Date</th>\n",
       "      <th>Temperature (°C)</th>\n",
       "      <th>Humidity (%)</th>\n",
       "      <th>TDS Value (ppm)</th>\n",
       "      <th>pH Level</th>\n",
       "      <th>Growth Days</th>\n",
       "      <th>Temperature (F)</th>\n",
       "      <th>Humidity</th>\n",
       "    </tr>\n",
       "  </thead>\n",
       "  <tbody>\n",
       "    <tr>\n",
       "      <th>0</th>\n",
       "      <td>1</td>\n",
       "      <td>8/3/2023</td>\n",
       "      <td>33.4</td>\n",
       "      <td>53</td>\n",
       "      <td>582</td>\n",
       "      <td>6.4</td>\n",
       "      <td>1</td>\n",
       "      <td>92.12</td>\n",
       "      <td>0.53</td>\n",
       "    </tr>\n",
       "    <tr>\n",
       "      <th>1</th>\n",
       "      <td>1</td>\n",
       "      <td>8/4/2023</td>\n",
       "      <td>33.5</td>\n",
       "      <td>53</td>\n",
       "      <td>451</td>\n",
       "      <td>6.1</td>\n",
       "      <td>2</td>\n",
       "      <td>92.30</td>\n",
       "      <td>0.53</td>\n",
       "    </tr>\n",
       "    <tr>\n",
       "      <th>2</th>\n",
       "      <td>1</td>\n",
       "      <td>8/5/2023</td>\n",
       "      <td>33.4</td>\n",
       "      <td>59</td>\n",
       "      <td>678</td>\n",
       "      <td>6.4</td>\n",
       "      <td>3</td>\n",
       "      <td>92.12</td>\n",
       "      <td>0.59</td>\n",
       "    </tr>\n",
       "    <tr>\n",
       "      <th>3</th>\n",
       "      <td>1</td>\n",
       "      <td>8/6/2023</td>\n",
       "      <td>33.4</td>\n",
       "      <td>68</td>\n",
       "      <td>420</td>\n",
       "      <td>6.4</td>\n",
       "      <td>4</td>\n",
       "      <td>92.12</td>\n",
       "      <td>0.68</td>\n",
       "    </tr>\n",
       "    <tr>\n",
       "      <th>4</th>\n",
       "      <td>1</td>\n",
       "      <td>8/7/2023</td>\n",
       "      <td>33.4</td>\n",
       "      <td>74</td>\n",
       "      <td>637</td>\n",
       "      <td>6.5</td>\n",
       "      <td>5</td>\n",
       "      <td>92.12</td>\n",
       "      <td>0.74</td>\n",
       "    </tr>\n",
       "  </tbody>\n",
       "</table>\n",
       "</div>"
      ],
      "text/plain": [
       "   Plant_ID      Date  Temperature (°C)  Humidity (%)  TDS Value (ppm)  \\\n",
       "0         1  8/3/2023              33.4            53              582   \n",
       "1         1  8/4/2023              33.5            53              451   \n",
       "2         1  8/5/2023              33.4            59              678   \n",
       "3         1  8/6/2023              33.4            68              420   \n",
       "4         1  8/7/2023              33.4            74              637   \n",
       "\n",
       "   pH Level  Growth Days  Temperature (F)  Humidity  \n",
       "0       6.4            1            92.12      0.53  \n",
       "1       6.1            2            92.30      0.53  \n",
       "2       6.4            3            92.12      0.59  \n",
       "3       6.4            4            92.12      0.68  \n",
       "4       6.5            5            92.12      0.74  "
      ]
     },
     "execution_count": 1,
     "metadata": {},
     "output_type": "execute_result"
    }
   ],
   "source": [
    "import pandas as pd\n",
    "import numpy as np\n",
    "import matplotlib.pyplot as plt\n",
    "import seaborn as sns\n",
    "from sklearn.preprocessing import StandardScaler\n",
    "\n",
    "# Load the dataset\n",
    "file_path = r'C:\\Users\\user\\Downloads\\oasis\\lettuce_dataset_updated.csv'\n",
    "data = data = pd.read_csv(file_path, encoding='ISO-8859-1')\n",
    "# or use latin1\n",
    "# data = pd.read_csv(file_path, encoding='latin1')\n",
    "\n",
    "\n",
    "# Display basic info and first few rows of the dataset\n",
    "data.info()\n",
    "data.head()"
   ]
  },
  {
   "cell_type": "markdown",
   "id": "c7c13c7f-c32c-4ee0-877e-e6d700ceed2d",
   "metadata": {},
   "source": [
    "## Step 1: Handling Missing Data"
   ]
  },
  {
   "cell_type": "code",
   "execution_count": 2,
   "id": "551e1fd9-7bc0-4683-b241-96bfa9133236",
   "metadata": {},
   "outputs": [
    {
     "name": "stdout",
     "output_type": "stream",
     "text": [
      "Missing Data Summary:\n",
      "Series([], dtype: int64)\n",
      "Missing Data Percentage:\n",
      "Series([], dtype: float64)\n",
      "\n",
      "Missing Data After Cleaning:\n",
      "Series([], dtype: int64)\n"
     ]
    }
   ],
   "source": [
    "missing_data_summary = data.isnull().sum()\n",
    "missing_percentage = (missing_data_summary / len(data)) * 100\n",
    "print(f\"Missing Data Summary:\\n{missing_data_summary[missing_data_summary > 0]}\")\n",
    "print(f\"Missing Data Percentage:\\n{missing_percentage[missing_percentage > 0]}\")\n",
    "\n",
    "# Step 2: Handling missing values\n",
    "def handle_missing_data(df):\n",
    "    for col in df.columns:\n",
    "        missing_count = df[col].isnull().sum()\n",
    "        \n",
    "        # Skip columns with no missing data\n",
    "        if missing_count == 0:\n",
    "            continue\n",
    "        \n",
    "        # Handle missing numeric columns\n",
    "        if df[col].dtype in ['float64', 'int64']:\n",
    "            mean_value = df[col].mean()\n",
    "            median_value = df[col].median()\n",
    "            \n",
    "            # If data is normally distributed, fill with mean; otherwise use median\n",
    "            df[col].fillna(median_value, inplace=True)\n",
    "            print(f\"Filled missing numeric values in '{col}' with median: {median_value}\")\n",
    "        \n",
    "        # Handle missing categorical columns\n",
    "        elif df[col].dtype == 'object':\n",
    "            mode_value = df[col].mode()[0]\n",
    "            \n",
    "            # Fill categorical columns with the most frequent value (mode)\n",
    "            df[col].fillna(mode_value, inplace=True)\n",
    "            print(f\"Filled missing categorical values in '{col}' with mode: {mode_value}\")\n",
    "        \n",
    "        # Handle missing datetime columns\n",
    "        elif np.issubdtype(df[col].dtype, np.datetime64):\n",
    "            # Fill datetime columns with the most common or nearest date\n",
    "            most_frequent_date = df[col].mode()[0]\n",
    "            df[col].fillna(most_frequent_date, inplace=True)\n",
    "            print(f\"Filled missing datetime values in '{col}' with mode: {most_frequent_date}\")\n",
    "    \n",
    "    return df\n",
    "\n",
    "# Apply missing data handling\n",
    "data_cleaned = handle_missing_data(data)\n",
    "\n",
    "# Step 3: Verify that no missing data remains\n",
    "missing_data_cleaned_summary = data_cleaned.isnull().sum()\n",
    "print(f\"\\nMissing Data After Cleaning:\\n{missing_data_cleaned_summary[missing_data_cleaned_summary > 0]}\")\n"
   ]
  },
  {
   "cell_type": "markdown",
   "id": "8ce03df0-d396-404f-b29d-331e555c0876",
   "metadata": {},
   "source": [
    "## Step 2: Removing Duplicates"
   ]
  },
  {
   "cell_type": "code",
   "execution_count": 3,
   "id": "a81fb5d5-f005-4002-a09c-4fc1fa7c4f22",
   "metadata": {},
   "outputs": [
    {
     "data": {
      "text/plain": [
       "np.int64(0)"
      ]
     },
     "execution_count": 3,
     "metadata": {},
     "output_type": "execute_result"
    }
   ],
   "source": [
    "# Drop duplicate rows if any\n",
    "data.drop_duplicates(inplace=True)\n",
    "\n",
    "# Verify that duplicates are removed\n",
    "data.duplicated().sum()"
   ]
  },
  {
   "cell_type": "markdown",
   "id": "3ad7bc5e-9bc4-4310-9283-a55c6afb388d",
   "metadata": {},
   "source": [
    "## Step 3: Standardizing Data"
   ]
  },
  {
   "cell_type": "code",
   "execution_count": 4,
   "id": "23227ed9-8246-4906-9e20-09437df9c861",
   "metadata": {},
   "outputs": [
    {
     "data": {
      "text/html": [
       "<div>\n",
       "<style scoped>\n",
       "    .dataframe tbody tr th:only-of-type {\n",
       "        vertical-align: middle;\n",
       "    }\n",
       "\n",
       "    .dataframe tbody tr th {\n",
       "        vertical-align: top;\n",
       "    }\n",
       "\n",
       "    .dataframe thead th {\n",
       "        text-align: right;\n",
       "    }\n",
       "</style>\n",
       "<table border=\"1\" class=\"dataframe\">\n",
       "  <thead>\n",
       "    <tr style=\"text-align: right;\">\n",
       "      <th></th>\n",
       "      <th>Plant_ID</th>\n",
       "      <th>Date</th>\n",
       "      <th>Temperature (°C)</th>\n",
       "      <th>Humidity (%)</th>\n",
       "      <th>TDS Value (ppm)</th>\n",
       "      <th>pH Level</th>\n",
       "      <th>Growth Days</th>\n",
       "      <th>Temperature (F)</th>\n",
       "      <th>Humidity</th>\n",
       "    </tr>\n",
       "  </thead>\n",
       "  <tbody>\n",
       "    <tr>\n",
       "      <th>0</th>\n",
       "      <td>-1.701649</td>\n",
       "      <td>8/3/2023</td>\n",
       "      <td>1.125915</td>\n",
       "      <td>-1.321099</td>\n",
       "      <td>-0.138688</td>\n",
       "      <td>0.003366</td>\n",
       "      <td>-1.693383</td>\n",
       "      <td>1.125915</td>\n",
       "      <td>-1.321099</td>\n",
       "    </tr>\n",
       "    <tr>\n",
       "      <th>1</th>\n",
       "      <td>-1.701649</td>\n",
       "      <td>8/4/2023</td>\n",
       "      <td>1.147329</td>\n",
       "      <td>-1.321099</td>\n",
       "      <td>-1.270977</td>\n",
       "      <td>-1.276599</td>\n",
       "      <td>-1.616901</td>\n",
       "      <td>1.147329</td>\n",
       "      <td>-1.321099</td>\n",
       "    </tr>\n",
       "    <tr>\n",
       "      <th>2</th>\n",
       "      <td>-1.701649</td>\n",
       "      <td>8/5/2023</td>\n",
       "      <td>1.125915</td>\n",
       "      <td>-0.653510</td>\n",
       "      <td>0.691082</td>\n",
       "      <td>0.003366</td>\n",
       "      <td>-1.540420</td>\n",
       "      <td>1.125915</td>\n",
       "      <td>-0.653510</td>\n",
       "    </tr>\n",
       "    <tr>\n",
       "      <th>3</th>\n",
       "      <td>-1.701649</td>\n",
       "      <td>8/6/2023</td>\n",
       "      <td>1.125915</td>\n",
       "      <td>0.347874</td>\n",
       "      <td>-1.538924</td>\n",
       "      <td>0.003366</td>\n",
       "      <td>-1.463938</td>\n",
       "      <td>1.125915</td>\n",
       "      <td>0.347874</td>\n",
       "    </tr>\n",
       "    <tr>\n",
       "      <th>4</th>\n",
       "      <td>-1.701649</td>\n",
       "      <td>8/7/2023</td>\n",
       "      <td>1.125915</td>\n",
       "      <td>1.015463</td>\n",
       "      <td>0.336701</td>\n",
       "      <td>0.430021</td>\n",
       "      <td>-1.387457</td>\n",
       "      <td>1.125915</td>\n",
       "      <td>1.015463</td>\n",
       "    </tr>\n",
       "  </tbody>\n",
       "</table>\n",
       "</div>"
      ],
      "text/plain": [
       "   Plant_ID      Date  Temperature (°C)  Humidity (%)  TDS Value (ppm)  \\\n",
       "0 -1.701649  8/3/2023          1.125915     -1.321099        -0.138688   \n",
       "1 -1.701649  8/4/2023          1.147329     -1.321099        -1.270977   \n",
       "2 -1.701649  8/5/2023          1.125915     -0.653510         0.691082   \n",
       "3 -1.701649  8/6/2023          1.125915      0.347874        -1.538924   \n",
       "4 -1.701649  8/7/2023          1.125915      1.015463         0.336701   \n",
       "\n",
       "   pH Level  Growth Days  Temperature (F)  Humidity  \n",
       "0  0.003366    -1.693383         1.125915 -1.321099  \n",
       "1 -1.276599    -1.616901         1.147329 -1.321099  \n",
       "2  0.003366    -1.540420         1.125915 -0.653510  \n",
       "3  0.003366    -1.463938         1.125915  0.347874  \n",
       "4  0.430021    -1.387457         1.125915  1.015463  "
      ]
     },
     "execution_count": 4,
     "metadata": {},
     "output_type": "execute_result"
    }
   ],
   "source": [
    "numeric_columns = data.select_dtypes(include=['float64', 'int64']).columns\n",
    "scaler = StandardScaler()\n",
    "data[numeric_columns] = scaler.fit_transform(data[numeric_columns])\n",
    "\n",
    "# Display the head to verify standardization\n",
    "data.head()"
   ]
  },
  {
   "cell_type": "markdown",
   "id": "a24996f9-755f-485a-b199-5811057f1559",
   "metadata": {},
   "source": [
    "## Step 4: Outlier Detection using IQR"
   ]
  },
  {
   "cell_type": "code",
   "execution_count": 5,
   "id": "e1edd3cc-0370-44ad-99ce-d9de9964f92c",
   "metadata": {},
   "outputs": [
    {
     "name": "stdout",
     "output_type": "stream",
     "text": [
      "Outlier Rows:\n",
      "Empty DataFrame\n",
      "Columns: [Plant_ID, Date, Temperature (°C), Humidity (%), TDS Value (ppm), pH Level, Growth Days, Temperature (F), Humidity]\n",
      "Index: []\n"
     ]
    }
   ],
   "source": [
    "outliers = pd.DataFrame()\n",
    "for col in numeric_columns:\n",
    "    outliers[col] = np.abs(data[col]) > 3  # Marks True for outliers\n",
    "\n",
    "# Display rows with outliers\n",
    "outlier_rows = data[outliers.any(axis=1)]\n",
    "print(f\"Outlier Rows:\\n{outlier_rows}\")"
   ]
  },
  {
   "cell_type": "code",
   "execution_count": 6,
   "id": "aae46803-8b87-48b2-99fc-346844df5a84",
   "metadata": {},
   "outputs": [
    {
     "data": {
      "image/png": "[encoded data removed]",
      "text/plain": [
       "<Figure size 1200x800 with 1 Axes>"
      ]
     },
     "metadata": {},
     "output_type": "display_data"
    }
   ],
   "source": [
    "plt.figure(figsize=(12, 8))\n",
    "\n",
    "# Ensure column names are passed correctly\n",
    "data.boxplot(column=list(numeric_columns))\n",
    "plt.xticks(rotation=45)\n",
    "plt.title('Boxplot for Outlier Detection')\n",
    "plt.show()"
   ]
  },
  {
   "cell_type": "code",
   "execution_count": null,
   "id": "a913fde5-0c9f-457d-b77b-e780d09c472f",
   "metadata": {},
   "outputs": [],
   "source": []
  }
 ],
 "metadata": {
  "kernelspec": {
   "display_name": "Python 3 (ipykernel)",
   "language": "python",
   "name": "python3"
  },
  "language_info": {
   "codemirror_mode": {
    "name": "ipython",
    "version": 3
   },
   "file_extension": ".py",
   "mimetype": "text/x-python",
   "name": "python",
   "nbconvert_exporter": "python",
   "pygments_lexer": "ipython3",
   "version": "3.10.11"
  }
 },
 "nbformat": 4,
 "nbformat_minor": 5
}
